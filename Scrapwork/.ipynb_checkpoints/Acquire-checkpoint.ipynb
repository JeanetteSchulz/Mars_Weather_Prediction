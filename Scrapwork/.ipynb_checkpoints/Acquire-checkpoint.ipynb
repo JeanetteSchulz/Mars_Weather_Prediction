{
 "cells": [
  {
   "cell_type": "code",
   "execution_count": 1,
   "id": "de6e355f",
   "metadata": {},
   "outputs": [],
   "source": [
    "import pandas as pd\n",
    "import requests"
   ]
  },
  {
   "cell_type": "markdown",
   "id": "b1526b95",
   "metadata": {},
   "source": [
    "This is my first sucessful request to the NASA API! So exciting!"
   ]
  },
  {
   "cell_type": "code",
   "execution_count": 7,
   "id": "2434b6f4",
   "metadata": {},
   "outputs": [
    {
     "data": {
      "text/plain": [
       "{'copyright': 'Mark Hanson',\n",
       " 'date': '2022-01-14',\n",
       " 'explanation': \"An island universe of billions of stars, NGC 1566 lies about 60 million light-years away in the southern constellation Dorado. Popularly known as the Spanish Dancer galaxy, it's seen face-on from our Milky Way perspective. A gorgeous grand design spiral, this galaxy's two graceful spiral arms span over 100,000 light-years, traced by bright blue star clusters, pinkish starforming regions, and swirling cosmic dust lanes. NGC 1566's flaring center makes the spiral one of the closest and brightest Seyfert galaxies. It likely houses a central supermassive black hole wreaking havoc on surrounding stars, gas, and dust. In this sharp southern galaxy portrait, the spiky stars lie well within the Milky Way.\",\n",
       " 'hdurl': 'https://apod.nasa.gov/apod/image/2201/NGC1566LRGBHa-Hanson-SelbyFinal2048.jpg',\n",
       " 'media_type': 'image',\n",
       " 'service_version': 'v1',\n",
       " 'title': 'NGC 1566: The Spanish Dancer Spiral Galaxy',\n",
       " 'url': 'https://apod.nasa.gov/apod/image/2201/NGC1566LRGBHa-Hanson-SelbyFinal1024.jpg'}"
      ]
     },
     "execution_count": 7,
     "metadata": {},
     "output_type": "execute_result"
    }
   ],
   "source": [
    "# Requesting the data from the website\n",
    "response = requests.get('https://api.nasa.gov/planetary/apod?api_key=sPGBdAxsf3Fm1tGL17dtV9fnifk3fbrLmq2Fzh7y')\n",
    "\n",
    "# Inspecting data received \n",
    "data = response.json()\n",
    "\n",
    "data"
   ]
  },
  {
   "cell_type": "markdown",
   "id": "b85317a3",
   "metadata": {},
   "source": [
    "Okay, what I really need is the data from Insight. The above was given to me as an example once I recieved my API key. Now I need to learn and understand how to call on the `insight_weather` data."
   ]
  },
  {
   "cell_type": "code",
   "execution_count": 25,
   "id": "d53f1d3b",
   "metadata": {},
   "outputs": [],
   "source": [
    "# Requesting the data from the website\n",
    "response = requests.get('https://api.nasa.gov/insight_weather/?api_key=sPGBdAxsf3Fm1tGL17dtV9fnifk3fbrLmq2Fzh7y&feedtype=json&ver=1.0')\n",
    "\n",
    "data = response.json()\n"
   ]
  },
  {
   "cell_type": "code",
   "execution_count": 26,
   "id": "315d453c",
   "metadata": {},
   "outputs": [
    {
     "data": {
      "text/plain": [
       "{'Date': 'Fri, 14 Jan 2022 20:30:55 GMT', 'Content-Type': 'application/json;charset=utf-8', 'Transfer-Encoding': 'chunked', 'Connection': 'keep-alive', 'Vary': 'Accept-Encoding, Accept-Encoding', 'X-RateLimit-Limit': '2000', 'X-RateLimit-Remaining': '1974', 'Strict-Transport-Security': 'max-age=31536000; includeSubDomains; preload, max-age=31536000; includeSubDomains; preload;, max-age=31536000; preload', 'Cache-Control': 'max-age=60', 'Expires': \"{ts '2022-01-14 20:28:04'}\", 'X-Frame-Options': 'ALLOWALL', 'Access-Control-Allow-Origin': '*', 'Access-Control-Allow-Methods': 'POST, GET, OPTIONS, DELETE, PUT', 'Access-Control-Max-Age': '1000', 'Access-Control-Allow-Headers': 'x-requested-with, Content-Type, origin, authorization, accept, client-security-token', 'Content-Encoding': 'gzip', 'X-Cache': 'Hit from cloudfront', 'Via': '1.1 91541e88a15c80bced2ffb950f407c1e.cloudfront.net (CloudFront), https/1.1 api-umbrella (ApacheTrafficServer [cSsSfU])', 'X-Amz-Cf-Pop': 'IAD89-C3', 'X-Amz-Cf-Id': '6SVvjI45GieHtqg3lYpQVDiTTDTpge6f9S80JFRKjg0mBgAAp3swoA==', 'Age': '158'}"
      ]
     },
     "execution_count": 26,
     "metadata": {},
     "output_type": "execute_result"
    }
   ],
   "source": [
    "response.headers"
   ]
  },
  {
   "cell_type": "code",
   "execution_count": 32,
   "id": "3af8f748",
   "metadata": {},
   "outputs": [
    {
     "data": {
      "text/plain": [
       "<bound method Response.raise_for_status of <Response [200]>>"
      ]
     },
     "execution_count": 32,
     "metadata": {},
     "output_type": "execute_result"
    }
   ],
   "source": [
    "response.raise_for_status"
   ]
  },
  {
   "cell_type": "raw",
   "id": "6c73614f",
   "metadata": {},
   "source": []
  },
  {
   "cell_type": "code",
   "execution_count": null,
   "id": "1a471aed",
   "metadata": {},
   "outputs": [],
   "source": [
    "df[\"sol_keys\"][0]"
   ]
  },
  {
   "cell_type": "code",
   "execution_count": null,
   "id": "ad1fbf47",
   "metadata": {},
   "outputs": [],
   "source": [
    "https://api.nasa.gov/planetary/apod?api_key=sPGBdAxsf3Fm1tGL17dtV9fnifk3fbrLmq2Fzh7y\n",
    "\n",
    "https: //api.nasa.gov/insight_weather/?api_key=sPGBdAxsf3Fm1tGL17dtV9fnifk3fbrLmq2Fzh7y\n",
    "\n"
   ]
  }
 ],
 "metadata": {
  "kernelspec": {
   "display_name": "Python 3 (ipykernel)",
   "language": "python",
   "name": "python3"
  },
  "language_info": {
   "codemirror_mode": {
    "name": "ipython",
    "version": 3
   },
   "file_extension": ".py",
   "mimetype": "text/x-python",
   "name": "python",
   "nbconvert_exporter": "python",
   "pygments_lexer": "ipython3",
   "version": "3.9.7"
  }
 },
 "nbformat": 4,
 "nbformat_minor": 5
}
