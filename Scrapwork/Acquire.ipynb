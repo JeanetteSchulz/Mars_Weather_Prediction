{
 "cells": [
  {
   "cell_type": "code",
   "execution_count": 92,
   "id": "476429d4",
   "metadata": {},
   "outputs": [],
   "source": [
    "import pandas as pd\n",
    "import requests\n",
    "from bs4 import BeautifulSoup\n"
   ]
  },
  {
   "cell_type": "markdown",
   "id": "610d7556",
   "metadata": {},
   "source": [
    "This is my first sucessful request to the NASA API! So exciting!"
   ]
  },
  {
   "cell_type": "code",
   "execution_count": 7,
   "id": "6774facc",
   "metadata": {},
   "outputs": [
    {
     "data": {
      "text/plain": [
       "{'copyright': 'Mark Hanson',\n",
       " 'date': '2022-01-14',\n",
       " 'explanation': \"An island universe of billions of stars, NGC 1566 lies about 60 million light-years away in the southern constellation Dorado. Popularly known as the Spanish Dancer galaxy, it's seen face-on from our Milky Way perspective. A gorgeous grand design spiral, this galaxy's two graceful spiral arms span over 100,000 light-years, traced by bright blue star clusters, pinkish starforming regions, and swirling cosmic dust lanes. NGC 1566's flaring center makes the spiral one of the closest and brightest Seyfert galaxies. It likely houses a central supermassive black hole wreaking havoc on surrounding stars, gas, and dust. In this sharp southern galaxy portrait, the spiky stars lie well within the Milky Way.\",\n",
       " 'hdurl': 'https://apod.nasa.gov/apod/image/2201/NGC1566LRGBHa-Hanson-SelbyFinal2048.jpg',\n",
       " 'media_type': 'image',\n",
       " 'service_version': 'v1',\n",
       " 'title': 'NGC 1566: The Spanish Dancer Spiral Galaxy',\n",
       " 'url': 'https://apod.nasa.gov/apod/image/2201/NGC1566LRGBHa-Hanson-SelbyFinal1024.jpg'}"
      ]
     },
     "execution_count": 7,
     "metadata": {},
     "output_type": "execute_result"
    }
   ],
   "source": [
    "# Requesting the data from the website\n",
    "response = requests.get('https://api.nasa.gov/planetary/apod?api_key=sPGBdAxsf3Fm1tGL17dtV9fnifk3fbrLmq2Fzh7y')\n",
    "\n",
    "# Inspecting data received \n",
    "data = response.json()\n",
    "\n",
    "data"
   ]
  },
  {
   "cell_type": "markdown",
   "id": "94839f09",
   "metadata": {},
   "source": [
    "Okay, what I really need is the data from Insight. The above was given to me as an example once I recieved my API key. Now I need to learn and understand how to call on the `insight_weather` data. \n",
    "  \n",
    "I'm going to just play around with the import `requests` and see what it has in its library that I can use."
   ]
  },
  {
   "cell_type": "markdown",
   "id": "8f86f872",
   "metadata": {},
   "source": [
    "Documentation of API:  \n",
    "https://api.nasa.gov/assets/insight/InSight%20Weather%20API%20Documentation.pdf"
   ]
  },
  {
   "cell_type": "code",
   "execution_count": 90,
   "id": "b545b4e8",
   "metadata": {},
   "outputs": [],
   "source": [
    "# Requesting the data from the website\n",
    "response = requests.get('https://api.nasa.gov/insight_weather/?api_key=sPGBdAxsf3Fm1tGL17dtV9fnifk3fbrLmq2Fzh7y&feedtype=json&ver=1.0')\n",
    "\n",
    "data = response.json()\n"
   ]
  },
  {
   "cell_type": "code",
   "execution_count": 26,
   "id": "11d3f7f5",
   "metadata": {},
   "outputs": [
    {
     "data": {
      "text/plain": [
       "{'Date': 'Fri, 14 Jan 2022 20:30:55 GMT', 'Content-Type': 'application/json;charset=utf-8', 'Transfer-Encoding': 'chunked', 'Connection': 'keep-alive', 'Vary': 'Accept-Encoding, Accept-Encoding', 'X-RateLimit-Limit': '2000', 'X-RateLimit-Remaining': '1974', 'Strict-Transport-Security': 'max-age=31536000; includeSubDomains; preload, max-age=31536000; includeSubDomains; preload;, max-age=31536000; preload', 'Cache-Control': 'max-age=60', 'Expires': \"{ts '2022-01-14 20:28:04'}\", 'X-Frame-Options': 'ALLOWALL', 'Access-Control-Allow-Origin': '*', 'Access-Control-Allow-Methods': 'POST, GET, OPTIONS, DELETE, PUT', 'Access-Control-Max-Age': '1000', 'Access-Control-Allow-Headers': 'x-requested-with, Content-Type, origin, authorization, accept, client-security-token', 'Content-Encoding': 'gzip', 'X-Cache': 'Hit from cloudfront', 'Via': '1.1 91541e88a15c80bced2ffb950f407c1e.cloudfront.net (CloudFront), https/1.1 api-umbrella (ApacheTrafficServer [cSsSfU])', 'X-Amz-Cf-Pop': 'IAD89-C3', 'X-Amz-Cf-Id': '6SVvjI45GieHtqg3lYpQVDiTTDTpge6f9S80JFRKjg0mBgAAp3swoA==', 'Age': '158'}"
      ]
     },
     "execution_count": 26,
     "metadata": {},
     "output_type": "execute_result"
    }
   ],
   "source": [
    "response.headers"
   ]
  },
  {
   "cell_type": "code",
   "execution_count": 32,
   "id": "00f02c45",
   "metadata": {},
   "outputs": [
    {
     "data": {
      "text/plain": [
       "<bound method Response.raise_for_status of <Response [200]>>"
      ]
     },
     "execution_count": 32,
     "metadata": {},
     "output_type": "execute_result"
    }
   ],
   "source": [
    "response.raise_for_status"
   ]
  },
  {
   "cell_type": "code",
   "execution_count": 33,
   "id": "d8aab0c1",
   "metadata": {},
   "outputs": [
    {
     "data": {
      "text/plain": [
       "<urllib3.response.HTTPResponse at 0x7fe51e73f3d0>"
      ]
     },
     "execution_count": 33,
     "metadata": {},
     "output_type": "execute_result"
    }
   ],
   "source": [
    "response.raw"
   ]
  },
  {
   "cell_type": "code",
   "execution_count": 36,
   "id": "b46d500d",
   "metadata": {},
   "outputs": [
    {
     "data": {
      "text/plain": [
       "'OK'"
      ]
     },
     "execution_count": 36,
     "metadata": {},
     "output_type": "execute_result"
    }
   ],
   "source": [
    "response.reason"
   ]
  },
  {
   "cell_type": "code",
   "execution_count": 37,
   "id": "ac7e361a",
   "metadata": {},
   "outputs": [
    {
     "data": {
      "text/plain": [
       "<PreparedRequest [GET]>"
      ]
     },
     "execution_count": 37,
     "metadata": {},
     "output_type": "execute_result"
    }
   ],
   "source": [
    "response.request"
   ]
  },
  {
   "cell_type": "code",
   "execution_count": 38,
   "id": "6100ef12",
   "metadata": {},
   "outputs": [
    {
     "data": {
      "text/plain": [
       "200"
      ]
     },
     "execution_count": 38,
     "metadata": {},
     "output_type": "execute_result"
    }
   ],
   "source": [
    "response.status_code"
   ]
  },
  {
   "cell_type": "code",
   "execution_count": 47,
   "id": "83005b84",
   "metadata": {},
   "outputs": [],
   "source": [
    "# print(response.text)"
   ]
  },
  {
   "cell_type": "code",
   "execution_count": 41,
   "id": "20764619",
   "metadata": {},
   "outputs": [
    {
     "data": {
      "text/plain": [
       "'https://api.nasa.gov/insight_weather/?api_key=sPGBdAxsf3Fm1tGL17dtV9fnifk3fbrLmq2Fzh7y&feedtype=json&ver=1.0'"
      ]
     },
     "execution_count": 41,
     "metadata": {},
     "output_type": "execute_result"
    }
   ],
   "source": [
    "response.url"
   ]
  },
  {
   "cell_type": "code",
   "execution_count": 91,
   "id": "b549c684",
   "metadata": {},
   "outputs": [
    {
     "data": {
      "text/plain": [
       "{'sol_keys': [],\n",
       " 'validity_checks': {'1099': {'AT': {'sol_hours_with_data': [0,\n",
       "     1,\n",
       "     2,\n",
       "     3,\n",
       "     4,\n",
       "     5,\n",
       "     6,\n",
       "     7,\n",
       "     8,\n",
       "     9,\n",
       "     10,\n",
       "     11,\n",
       "     12,\n",
       "     13,\n",
       "     14,\n",
       "     15,\n",
       "     16],\n",
       "    'valid': False},\n",
       "   'HWS': {'sol_hours_with_data': [0,\n",
       "     1,\n",
       "     2,\n",
       "     3,\n",
       "     4,\n",
       "     5,\n",
       "     6,\n",
       "     7,\n",
       "     8,\n",
       "     9,\n",
       "     10,\n",
       "     11,\n",
       "     12,\n",
       "     13,\n",
       "     14,\n",
       "     15,\n",
       "     16],\n",
       "    'valid': False},\n",
       "   'PRE': {'sol_hours_with_data': [0,\n",
       "     1,\n",
       "     2,\n",
       "     3,\n",
       "     4,\n",
       "     5,\n",
       "     6,\n",
       "     7,\n",
       "     8,\n",
       "     9,\n",
       "     10,\n",
       "     11,\n",
       "     12,\n",
       "     13,\n",
       "     14,\n",
       "     15,\n",
       "     16],\n",
       "    'valid': False},\n",
       "   'WD': {'sol_hours_with_data': [0,\n",
       "     1,\n",
       "     2,\n",
       "     3,\n",
       "     4,\n",
       "     5,\n",
       "     6,\n",
       "     7,\n",
       "     8,\n",
       "     9,\n",
       "     10,\n",
       "     11,\n",
       "     12,\n",
       "     13,\n",
       "     14,\n",
       "     15,\n",
       "     16],\n",
       "    'valid': False}},\n",
       "  'sol_hours_required': 18,\n",
       "  'sols_checked': ['1099']}}"
      ]
     },
     "execution_count": 91,
     "metadata": {},
     "output_type": "execute_result"
    }
   ],
   "source": [
    "data"
   ]
  },
  {
   "cell_type": "code",
   "execution_count": null,
   "id": "96bfdac5",
   "metadata": {},
   "outputs": [],
   "source": []
  },
  {
   "cell_type": "code",
   "execution_count": 86,
   "id": "7def2cb3",
   "metadata": {},
   "outputs": [
    {
     "data": {
      "text/plain": [
       "[]"
      ]
     },
     "execution_count": 86,
     "metadata": {},
     "output_type": "execute_result"
    }
   ],
   "source": [
    "# So this is all that I got from the first request\n",
    "data['sol_keys']"
   ]
  },
  {
   "cell_type": "code",
   "execution_count": 65,
   "id": "cbf14c8a",
   "metadata": {},
   "outputs": [
    {
     "data": {
      "text/plain": [
       "{'1099': {'AT': {'sol_hours_with_data': [0,\n",
       "    1,\n",
       "    2,\n",
       "    3,\n",
       "    4,\n",
       "    5,\n",
       "    6,\n",
       "    7,\n",
       "    8,\n",
       "    9,\n",
       "    10,\n",
       "    11,\n",
       "    12,\n",
       "    13,\n",
       "    14,\n",
       "    15,\n",
       "    16],\n",
       "   'valid': False},\n",
       "  'HWS': {'sol_hours_with_data': [0,\n",
       "    1,\n",
       "    2,\n",
       "    3,\n",
       "    4,\n",
       "    5,\n",
       "    6,\n",
       "    7,\n",
       "    8,\n",
       "    9,\n",
       "    10,\n",
       "    11,\n",
       "    12,\n",
       "    13,\n",
       "    14,\n",
       "    15,\n",
       "    16],\n",
       "   'valid': False},\n",
       "  'PRE': {'sol_hours_with_data': [0,\n",
       "    1,\n",
       "    2,\n",
       "    3,\n",
       "    4,\n",
       "    5,\n",
       "    6,\n",
       "    7,\n",
       "    8,\n",
       "    9,\n",
       "    10,\n",
       "    11,\n",
       "    12,\n",
       "    13,\n",
       "    14,\n",
       "    15,\n",
       "    16],\n",
       "   'valid': False},\n",
       "  'WD': {'sol_hours_with_data': [0,\n",
       "    1,\n",
       "    2,\n",
       "    3,\n",
       "    4,\n",
       "    5,\n",
       "    6,\n",
       "    7,\n",
       "    8,\n",
       "    9,\n",
       "    10,\n",
       "    11,\n",
       "    12,\n",
       "    13,\n",
       "    14,\n",
       "    15,\n",
       "    16],\n",
       "   'valid': False}},\n",
       " 'sol_hours_required': 18,\n",
       " 'sols_checked': ['1099']}"
      ]
     },
     "execution_count": 65,
     "metadata": {},
     "output_type": "execute_result"
    }
   ],
   "source": [
    "# Let's see if I can break it down and understand how they organized thier data\n",
    "data['validity_checks']"
   ]
  },
  {
   "cell_type": "code",
   "execution_count": 60,
   "id": "f67efa0f",
   "metadata": {},
   "outputs": [
    {
     "name": "stdout",
     "output_type": "stream",
     "text": [
      "dict_values([[], {'1099': {'AT': {'sol_hours_with_data': [0, 1, 2, 3, 4, 5, 6, 7, 8, 9, 10, 11, 12, 13, 14, 15, 16], 'valid': False}, 'HWS': {'sol_hours_with_data': [0, 1, 2, 3, 4, 5, 6, 7, 8, 9, 10, 11, 12, 13, 14, 15, 16], 'valid': False}, 'PRE': {'sol_hours_with_data': [0, 1, 2, 3, 4, 5, 6, 7, 8, 9, 10, 11, 12, 13, 14, 15, 16], 'valid': False}, 'WD': {'sol_hours_with_data': [0, 1, 2, 3, 4, 5, 6, 7, 8, 9, 10, 11, 12, 13, 14, 15, 16], 'valid': False}}, 'sol_hours_required': 18, 'sols_checked': ['1099']}])\n"
     ]
    }
   ],
   "source": [
    "# I'm struggling to read this for some reason, maybe this will help me see what i can call?\n",
    "data.values()"
   ]
  },
  {
   "cell_type": "code",
   "execution_count": 68,
   "id": "123d99b2",
   "metadata": {},
   "outputs": [
    {
     "data": {
      "text/plain": [
       "[0, 1, 2, 3, 4, 5, 6, 7, 8, 9, 10, 11, 12, 13, 14, 15, 16]"
      ]
     },
     "execution_count": 68,
     "metadata": {},
     "output_type": "execute_result"
    }
   ],
   "source": [
    "# Okay! I finally figured out the structure of this data I got!\n",
    "data['validity_checks']['1099']['AT']['sol_hours_with_data']"
   ]
  },
  {
   "cell_type": "code",
   "execution_count": 72,
   "id": "7447a22a",
   "metadata": {},
   "outputs": [
    {
     "data": {
      "text/plain": [
       "[0, 1, 2, 3, 4, 5, 6, 7, 8, 9, 10, 11, 12, 13, 14, 15, 16]"
      ]
     },
     "execution_count": 72,
     "metadata": {},
     "output_type": "execute_result"
    }
   ],
   "source": [
    "data['validity_checks']['1099']['HWS']['sol_hours_with_data']"
   ]
  },
  {
   "cell_type": "code",
   "execution_count": 74,
   "id": "f79b40c0",
   "metadata": {},
   "outputs": [
    {
     "data": {
      "text/plain": [
       "[0, 1, 2, 3, 4, 5, 6, 7, 8, 9, 10, 11, 12, 13, 14, 15, 16]"
      ]
     },
     "execution_count": 74,
     "metadata": {},
     "output_type": "execute_result"
    }
   ],
   "source": [
    "data['validity_checks']['1099']['PRE']['sol_hours_with_data']"
   ]
  },
  {
   "cell_type": "code",
   "execution_count": 75,
   "id": "911c9b7e",
   "metadata": {
    "scrolled": true
   },
   "outputs": [
    {
     "data": {
      "text/plain": [
       "[0, 1, 2, 3, 4, 5, 6, 7, 8, 9, 10, 11, 12, 13, 14, 15, 16]"
      ]
     },
     "execution_count": 75,
     "metadata": {},
     "output_type": "execute_result"
    }
   ],
   "source": [
    "data['validity_checks']['1099']['WD']['sol_hours_with_data']"
   ]
  },
  {
   "cell_type": "code",
   "execution_count": 77,
   "id": "5f7e5636",
   "metadata": {},
   "outputs": [
    {
     "data": {
      "text/plain": [
       "18"
      ]
     },
     "execution_count": 77,
     "metadata": {},
     "output_type": "execute_result"
    }
   ],
   "source": [
    "data['validity_checks']['sol_hours_required']"
   ]
  },
  {
   "cell_type": "code",
   "execution_count": 78,
   "id": "cb578149",
   "metadata": {},
   "outputs": [
    {
     "data": {
      "text/plain": [
       "['1099']"
      ]
     },
     "execution_count": 78,
     "metadata": {},
     "output_type": "execute_result"
    }
   ],
   "source": [
    "data['validity_checks']['sols_checked']"
   ]
  },
  {
   "cell_type": "markdown",
   "id": "e95bb5e3",
   "metadata": {},
   "source": [
    "Now I need to find out what `AT`, `HWS`, `PRE`, and `WD` mean. I'll go look for a data dictionary..."
   ]
  },
  {
   "cell_type": "markdown",
   "id": "309604e6",
   "metadata": {},
   "source": [
    "#### Per-Sol average values, linear sensors\n",
    "AT - atmospheric temperature, degrees Celsius  \n",
    "PRE - atmospheric pressure, Pascals  \n",
    "HWS - horizontal wind speed, metres per second  \n",
    "#### Per-sol 16-wind compass point of most common wind direction e.g. N for North or ESE for East-SouthEast\n",
    "WD - wind direction"
   ]
  },
  {
   "cell_type": "markdown",
   "id": "882c5fa9",
   "metadata": {},
   "source": [
    "A Mars solar day has a mean period of 24 hours 39 minutes 35.244 seconds, and is customarily referred to as a `\"sol\"` in order to distinguish this from the roughly 3% shorter solar day on Earth."
   ]
  },
  {
   "cell_type": "code",
   "execution_count": null,
   "id": "7f00de85",
   "metadata": {},
   "outputs": [],
   "source": []
  },
  {
   "cell_type": "markdown",
   "id": "c8b12a2d",
   "metadata": {},
   "source": [
    "https://spacemath.gsfc.nasa.gov/weekly/9Page41.pdf  \n",
    "The Curiosity Rover can only safely move during the Martian daytime. This is when\n",
    "scientists on Earth can use TV cameras to watch where the rover is traveling. The Martian day\n",
    "is 40 minutes longer then the Earth day. That means scientists have to move their work\n",
    "schedule forward by 40 minutes each Earth day to keep up with sunrise and sunset on Mars.\n",
    "The rover landed on August 5, 2012 at about 10:30 pm Pacific Daylight Time (PDT), which\n",
    "was defined as Sol 0 for this mission."
   ]
  },
  {
   "cell_type": "code",
   "execution_count": 82,
   "id": "456b513e",
   "metadata": {},
   "outputs": [
    {
     "data": {
      "text/html": [
       "<div>\n",
       "<style scoped>\n",
       "    .dataframe tbody tr th:only-of-type {\n",
       "        vertical-align: middle;\n",
       "    }\n",
       "\n",
       "    .dataframe tbody tr th {\n",
       "        vertical-align: top;\n",
       "    }\n",
       "\n",
       "    .dataframe thead th {\n",
       "        text-align: right;\n",
       "    }\n",
       "</style>\n",
       "<table border=\"1\" class=\"dataframe\">\n",
       "  <thead>\n",
       "    <tr style=\"text-align: right;\">\n",
       "      <th></th>\n",
       "      <th>sol_hours_with_data</th>\n",
       "      <th>valid</th>\n",
       "    </tr>\n",
       "  </thead>\n",
       "  <tbody>\n",
       "    <tr>\n",
       "      <th>AT</th>\n",
       "      <td>[0, 1, 2, 3, 4, 5, 6, 7, 8, 9, 10, 11, 12, 13,...</td>\n",
       "      <td>False</td>\n",
       "    </tr>\n",
       "    <tr>\n",
       "      <th>HWS</th>\n",
       "      <td>[0, 1, 2, 3, 4, 5, 6, 7, 8, 9, 10, 11, 12, 13,...</td>\n",
       "      <td>False</td>\n",
       "    </tr>\n",
       "    <tr>\n",
       "      <th>PRE</th>\n",
       "      <td>[0, 1, 2, 3, 4, 5, 6, 7, 8, 9, 10, 11, 12, 13,...</td>\n",
       "      <td>False</td>\n",
       "    </tr>\n",
       "    <tr>\n",
       "      <th>WD</th>\n",
       "      <td>[0, 1, 2, 3, 4, 5, 6, 7, 8, 9, 10, 11, 12, 13,...</td>\n",
       "      <td>False</td>\n",
       "    </tr>\n",
       "  </tbody>\n",
       "</table>\n",
       "</div>"
      ],
      "text/plain": [
       "                                   sol_hours_with_data  valid\n",
       "AT   [0, 1, 2, 3, 4, 5, 6, 7, 8, 9, 10, 11, 12, 13,...  False\n",
       "HWS  [0, 1, 2, 3, 4, 5, 6, 7, 8, 9, 10, 11, 12, 13,...  False\n",
       "PRE  [0, 1, 2, 3, 4, 5, 6, 7, 8, 9, 10, 11, 12, 13,...  False\n",
       "WD   [0, 1, 2, 3, 4, 5, 6, 7, 8, 9, 10, 11, 12, 13,...  False"
      ]
     },
     "execution_count": 82,
     "metadata": {},
     "output_type": "execute_result"
    }
   ],
   "source": [
    "# Starting the dataframe with the data I have so far\n",
    "mars = pd.DataFrame(data['validity_checks']['1099'])\n",
    "mars.head().T"
   ]
  },
  {
   "cell_type": "markdown",
   "id": "082fd9ee",
   "metadata": {},
   "source": [
    "### Okay so how do I get a sol day worth of data? I don't want \"sol_hours_with_data\" I want actual temperatures and wind direction and such.\n",
    "\n",
    "> After asking for help from my instructor it seems that either the API documentation could be improved, or the data is just not accessible at all. I thought I could at least get old data from 2019 if nothing new was being currently gathered, but I have no idea how to get to this data utilizing NASA's API website.\n"
   ]
  },
  {
   "cell_type": "markdown",
   "id": "40714416",
   "metadata": {},
   "source": [
    "### 687 Earth days - one Mars year."
   ]
  },
  {
   "cell_type": "markdown",
   "id": "bbed99a4",
   "metadata": {},
   "source": [
    "I found a website that might be of use to me. It's just a matter of scraping all the individual csv data together in a single dataframe.  \n",
    "https://atmos.nmsu.edu/data_and_services/atmospheres_data/INSIGHT/insight.html#Data"
   ]
  },
  {
   "cell_type": "markdown",
   "id": "31c0ba02",
   "metadata": {},
   "source": [
    "Scraping Data Instructions:\n",
    "1. Import the get() function from the requests module, BeautifulSoup from bs4, and pandas.\n",
    "2. Assign the address of the web page to a variable named url.\n",
    "3. Request the server the content of the web page by using get(), and store the server’s response in the variable response.\n",
    "4. Print the response text to ensure you have an html page.\n",
    "5. Take a look at the actual web page contents and inspect the source to understand the structure a bit.\n",
    "6. Use BeautifulSoup to parse the HTML into a variable ('soup').\n",
    "7. Identify the key tags you need to extract the data you are looking for.\n",
    "8. Create a dataframe of the data desired.\n",
    "9. Run some summary stats and inspect the data to ensure you have what you wanted.\n",
    "10. Edit the data structure as needed, especially so that one column has all the text you want included in this analysis.\n",
    "11. Create a corpus of the column with the text you want to analyze.\n",
    "12. Store that corpus for use in a future notebook.\n",
    "\n"
   ]
  },
  {
   "cell_type": "code",
   "execution_count": 94,
   "id": "4889e208",
   "metadata": {},
   "outputs": [],
   "source": [
    "# Following the curriculum for some guidance...\n",
    "url = 'https://atmos.nmsu.edu/data_and_services/atmospheres_data/INSIGHT/insight.html#Data'\n",
    "headers = {'User-Agent': 'Codeup Data Science'} # Some websites don't accept the pyhon-requests default user-agent\n",
    "response = requests.get(url, headers=headers)"
   ]
  },
  {
   "cell_type": "code",
   "execution_count": 95,
   "id": "51956eb9",
   "metadata": {},
   "outputs": [],
   "source": [
    "# Make a soup variable holding the response content\n",
    "soup = BeautifulSoup(response.content, 'html.parser')"
   ]
  },
  {
   "cell_type": "code",
   "execution_count": 96,
   "id": "2ab575c7",
   "metadata": {},
   "outputs": [
    {
     "data": {
      "text/plain": [
       "<!DOCTYPE html PUBLIC \"-//W3C//DTD XHTML 1.1//EN\" \"https://www.w3.org/TR/xhtml11/DTD/xhtml11.dtd\">\n",
       "\n",
       "<html lang=\"en\" xmlns=\"https://www.w3.org/1999/xhtml\"><head><!-- InstanceBegin template=\"/Templates/main.dwt\" codeOutsideHTMLIsLocked=\"false\" --><!-- InstanceBeginEditable name=\"doctitle\" --><title>Insight Archive Page</title><!-- InstanceEndEditable -->\n",
       "<meta content=\"text/html; charset=utf-8\" http-equiv=\"Content-Type\"/>\n",
       "<link href=\"https://pds-atmospheres.nmsu.edu/atmospage_files/insight_2.css\" media=\"all\" rel=\"stylesheet\" type=\"text/css\"/>\n",
       "<script language=\"JavaScript\" src=\"https://pds-atmospheres.nmsu.edu/oodt/js/lastMod.js\"></script>\n",
       "<script src=\"https://pds-atmospheres.nmsu.edu/atmospage_files/jquery-1.js\" type=\"text/javascript\"></script>\n",
       "<script src=\"https://pds-atmospheres.nmsu.edu/atmospage_files/email.js\" type=\"text/javascript\"></script>\n",
       "<script language=\"JavaScript\" src=\"https://pds-atmospheres.nmsu.edu/oodt/js/color.js\">\n",
       "</script>\n",
       "<script type=\"text/javascript\">\n",
       "$(fixEmail);\n",
       "</script><!-- InstanceBeginEditable name=\"head\" --><!-- InstanceEndEditable --><!-- InstanceParam name=\"menu_section\" type=\"text\" value=\"data\" --><!-- InstanceParam name=\"menu_item\" type=\"text\" value=\"\" --><!-- InstanceParam name=\"left_sidebar\" type=\"boolean\" value=\"true\" --><!-- InstanceParam name=\"standard_sidebar\" type=\"boolean\" value=\"true\" --><!-- InstanceParam name=\"standard_page_content\" type=\"boolean\" value=\"true\" --><!-- InstanceParam name=\"custom_page_class\" type=\"text\" value=\"\" --><link href=\"https://pds.nasa.gov/pds-app-bar/pds-app-bar.css\" rel=\"stylesheet\" type=\"text/css\"/><link href=\"https://pds.nasa.gov/pds-app-bar/pds-app-bar.css\" rel=\"stylesheet\" type=\"text/css\"/><script src=\"https://pds.nasa.gov/pds-app-bar/pds-app-bar.js\" type=\"text/javascript\"></script></head><body class=\"sidebar menu_data menu_item_\">\n",
       "<!--[if IE]>\n",
       "<div id=\"IE\">\n",
       "<![endif]-->\n",
       "<!-- Header -->\n",
       "<div id=\"header\">\n",
       "<div class=\"nonvisual\">\n",
       "<h2>Menu: Skip within this page</h2>\n",
       "<ul>\n",
       "<li><a href=\"#mainContent\">Skip to main content</a></li>\n",
       "<li><a href=\"#mainMenu\">Skip to menu</a></li>\n",
       "</ul>\n",
       "</div>\n",
       "<p id=\"logo\">\n",
       "<a href=\"https://pds.nasa.gov/index.shtml\" onclick=\"this.blur()\"><img alt=\"NASA logo\" border=\"0\" height=\"50\" src=\"https://pds-atmospheres.nmsu.edu/atmospage_files/nasa-logo.gif\" width=\"60\"/> PDS: The Planetary Atmospheres Node</a><!--<span style=\"position: relative; left: -3em; bottom: -1em; color: rgb(255, 51, 51); font-size: 90%; font-family: 'Arial Black';\">BETA</span> -->\n",
       "</p>\n",
       "<!--    \n",
       "<form id=\"dummyForm\" action=\"/\" method=\"get\"></form>\n",
       "<script type=\"text/javascript\">\n",
       "function setSearchAction(form, actionSelector) {\n",
       "    var baseAction = document.getElementById(\"dummyForm\").action;\n",
       "    form.action = baseAction + actionSelector.value;\n",
       "    return true;\n",
       "}\n",
       "</script>-->\n",
       "<form action=\"http://atmos.nmsu.edu:8080/search-0.1-dev/servlet/irtf.search_by_keyword\" enctype=\"application/x-www-form-urlencoded\" id=\"search\" method=\"get\">\n",
       "<input name=\"q\" type=\"hidden\" value=\"\"/>\n",
       "<input name=\"facet\" type=\"hidden\" value=\"\"/>\n",
       "<input name=\"in\" type=\"hidden\" value=\"all\"/>\n",
       "<label for=\"searchPhrase\">Search for:</label><br/>\n",
       "<input class=\"text\" id=\"searchPhrase\" name=\"DATA_SET\" size=\"30\" type=\"text\"/> <input class=\"submit\" type=\"submit\" value=\"Go\"/><br/>\n",
       "\n",
       "</form>\n",
       "<h2 class=\"nonvisual\">Menu: Help Links</h2>\n",
       "<ul id=\"nasaLinks\">\n",
       "<li><a href=\"https://www.nasa.gov/\">NASA Portal</a></li>\n",
       "</ul>\n",
       "<ul id=\"nasaLinks\">\n",
       "<img alt=\"pds logo\" border=\"0\" src=\"https://atmos.nmsu.edu/images/PDS_Planets_comet.jpg\" width=\"100\"/>\n",
       "</ul>\n",
       "<div class=\"clear\"></div>\n",
       "</div>\n",
       "<!-- Main menu -->\n",
       "<div id=\"menu\">\n",
       "<a class=\"nonvisual\" name=\"mainMenu\"></a>\n",
       "<h2 class=\"nonvisual\">Main menu</h2>\n",
       "<ul>\n",
       "<li id=\"home\"><a href=\"https://pds-atmospheres.nmsu.edu/\">Home</a></li>\n",
       "<li id=\"about\"><a href=\"https://pds-atmospheres.nmsu.edu/about_t_node/about_t_node.htm\">About Us</a></li>\n",
       "<li id=\"data\"><a href=\"https://pds-atmospheres.nmsu.edu/data_and_services/data_and_services.htm\">Data and Services</a></li>\n",
       "<li id=\"education\"><a href=\"https://pds-atmospheres.nmsu.edu/education_and_outreach/education_and_outreach.htm\">Education</a></li>\n",
       "<li id=\"contact\"><a href=\"https://pds-atmospheres.nmsu.edu/contact_us/contact_us.htm\">Contact Us</a></li>\n",
       "<li id=\"external\"><a href=\"https://pds-atmospheres.nmsu.edu/other_i_sites/other_i_sites.htm\">External Links</a></li>\n",
       "</ul>\n",
       "<div class=\"clear\"></div>\n",
       "</div>\n",
       "<div id=\"submenu\">\n",
       "<div id=\"submenu\">\n",
       "<div id=\"submenu_data_and_services\">\n",
       "<h2 class=\"nonvisual\">Home submenu</h2>\n",
       "<ul>\n",
       "<li id=\"data_catalog\"><a href=\"https://pds-atmospheres.nmsu.edu/data_and_services/atmospheres_data/catalog.htm\">Data Catalog</a>\n",
       "<li id=\"home_weather\"><a href=\"https://pds-atmospheres.nmsu.edu/weather.html\">Local Weather</a></li>\n",
       "<li id=\"home_ads\"><a href=\"https://ui.adsabs.harvard.edu/\">ADS NASA Astrophysics Data System</a>\n",
       "<li id=\"home_nrs\"><a href=\"https://nspires.nasaprs.com/external/solicitations/solicitations.do?method=open&amp;stack=push\">NASA Research Solicitations</a>\n",
       "<li id=\"home_abstracts\"><a href=\"https://nspires.nasaprs.com/external/solicitations/solicitations.do?method=past&amp;stack=push\">Abstracts of Funded NASA Proposals</a>\n",
       "</li></li></li></li></ul>\n",
       "</div>\n",
       "<div class=\"clear\"></div>\n",
       "</div>\n",
       "<!-- <ul id=\"submenu_standards\"><li>&nbsp;</li></ul> -->\n",
       "<div class=\"clear\"></div>\n",
       "</div>\n",
       "<!-- Sidebar -->\n",
       "<div id=\"sidebar\">\n",
       "<div class=\"sidebarSection\">\n",
       "<h2>Atmospheres data and related services</h2>\n",
       "<ul>\n",
       "<li><a href=\"https://pds-atmospheres.nmsu.edu/data_and_services/atmospheres_data/atmospheres_data.htm\">Atmospheres data</a></li>\n",
       "<li><a href=\"https://pds-atmospheres.nmsu.edu/data_and_services/software/software.htm\">Software</a></li>\n",
       "</ul>\n",
       "</div>\n",
       "<div class=\"sidebarSection\">\n",
       "<h2>PDS Nodes</h2>\n",
       "<ul>\n",
       "<li><a href=\"https://pds.nasa.gov/\">PDS</a></li>\n",
       "<li><a href=\"https://pds-atmospheres.nmsu.edu/\">Atmospheres</a></li>\n",
       "<li><a href=\"https://pds-geosciences.wustl.edu/\">Geosciences</a></li>\n",
       "<li><a href=\"https://pds-imaging.jpl.nasa.gov/\">Cartography and Imaging</a></li>\n",
       "<li><a href=\"https://naif.jpl.nasa.gov/naif\">Navigation &amp; Ancillary Information Facility (NAIF)</a></li>\n",
       "<li><a href=\"https://pds-ppi.igpp.ucla.edu/\">Planetary Plasma Interactions (PPI)</a></li>\n",
       "<li><a href=\"https://pds-rings.seti.org/\">Ring-Moon Systems</a></li>\n",
       "<li><a href=\"https://pds-smallbodies.astro.umd.edu/\">Small Bodies</a></li>\n",
       "</ul>\n",
       "</div>\n",
       "<!-- InstanceBeginEditable name=\"leftSidebar\" -->\n",
       "<div class=\"sidebarSection2\">\n",
       "<h2><a href=\"insight.html\">Insight Summary Page</a></h2>\n",
       "<ul class=\"news\">\n",
       "<li><b><a href=\"https://pds-geosciences.wustl.edu/missions/insight/index.htm\">Mission Page</a></b></li>\n",
       "<li><b><a href=\"https://pds-geosciences.wustl.edu/missions/insight/seis.htm\">Seis</a></b></li>\n",
       "<li><b><a href=\"https://pds-geosciences.wustl.edu/missions/insight/hp3rad.htm\">HP3</a></b></li>\n",
       "<li><b><a href=\"https://pds-geosciences.wustl.edu/missions/insight/hp3rad.htm\">Radiometer</a></b></li>\n",
       "<li><b><a href=\"https://pds-geosciences.wustl.edu/missions/insight/rise.htm\">RISE</a></b></li>\n",
       "<li><b><a href=\"https://pds-geosciences.wustl.edu/missions/insight/ida.htm\">IDA</a></b></li>\n",
       "<li><b><a href=\"\">APSS (this page)</a></b></li>\n",
       "<div id=\"indenttext\">\n",
       "<li><b><a href=\"\">TWINS</a></b></li>\n",
       "<li><b><a href=\"\">PS</a></b></li>\n",
       "</div>\n",
       "<li><b><a href=\"https://atmos.nmsu.edu/data_and_services/atmospheres_data/INSIGHT/insight_edl.html\">ACC</a></b></li>\n",
       "<li><b><a href=\"https://pds-ppi.igpp.ucla.edu/search/view/?f=yes&amp;id=pds://PPI/insight-ifg-mars\">Magnetometer</a></b></li>\n",
       "<li><b><a href=\"https://pds-ppi.igpp.ucla.edu/search/view/?f=yes&amp;id=pds://PPI/insight-ifg-mars/data-sc-engineering\">Ancillary Data</a></b></li>\n",
       "<li><b><a href=\"https://pds-imaging.jpl.nasa.gov/data/nsyt/insight_cameras/\">IDC</a></b></li>\n",
       "<li><b><a href=\"https://pds-imaging.jpl.nasa.gov/data/nsyt/insight_cameras/\">ICC</a></b></li>\n",
       "</ul>\n",
       "</div>\n",
       "<!-- InstanceEndEditable -->\n",
       "</div>\n",
       "<!-- Main content -->\n",
       "<div id=\"content\">\n",
       "<a name=\"mainContent\"></a>\n",
       "<div>\n",
       "<!-- InstanceBeginEditable name=\"content\" -->\n",
       "<div style=\"border-top: 1px solid white; position: relative;\">\n",
       "<!-- main content begin -->\n",
       "<h1><!-- InstanceBeginEditable name=\"pageTitle\" --><center><center></center></center></h1><ul>\n",
       "<img src=\"images/insight_logo.png\" style=\"top:20px; left:30px; position: absolute;\" width=\"150\"/>\n",
       "<br/><br/>\n",
       "<div id=\"banholder\">\n",
       "<div id=\"banner\">\n",
       "<div id=\"bannertext\" style=\"font-family: Tahoma, Geneva\">\n",
       "          Welcome to the Insight Weather Station Page\n",
       "    </div>\n",
       "</div>\n",
       "<div id=\"banner2\">\n",
       "<div id=\"bannertext4\" style=\"font-family: Tahoma, Geneva\">\n",
       "<char style=\"font-size=6;\">\n",
       "              Temperature and Wind Sensor for InSight (TWINS)<br/>\n",
       "              Pressure Sensor (PS) - Certified\n",
       "</char>\n",
       "</div>\n",
       "</div>\n",
       "</div>\n",
       "<!--\n",
       "<img src=\"images/Main_Banner.jpg\" width=\"850\" alt=\"Main Banner\" align=\"left\">\n",
       "-->\n",
       "<br/><br/><br/><br/><br/>\n",
       "<div id=\"date_line_10\">\n",
       "Currently available data extend from 2018-11-30 to 2021-06-29 (Ls 298 MY 34 to Ls 65 MY 36 ) [ongoing]\n",
       "</div>\n",
       "<br/><br/><br/><br/><br/><br/><br/><br/><br/><br/>\n",
       "<h1>On this page</h1>\n",
       "<char id=\"indenttext\">\n",
       "<h1>\n",
       "<a class=\"ipstickynav\" href=\"#Introduction\">Introduction</a><br/>\n",
       "<a class=\"ipstickynav\" href=\"#Data\">Data Acquisition and Structure</a><br/>\n",
       "<a class=\"ipstickynav\" href=\"#Selecting_Data\">Selecting Data</a><br/>\n",
       "<a class=\"ipstickynav\" href=\"#Citing\">Citing datasets for publication</a><br/>\n",
       "<a class=\"ipstickynav\" href=\"#Bibliography\">Bibliography</a><br/>\n",
       "<a class=\"ipstickynav\" href=\"#Spice\">Spice</a><br/>\n",
       "</h1>\n",
       "</char>\n",
       "<a href=\"images/insight_pic.png\"><img align=\"left\" alt=\"INSIGHT\" border=\"1\" src=\"images/insight_pic.png\" style=\"border-color:black;\" width=\"650\"/></a>\n",
       "<div id=\"smalltext\">\n",
       "<div id=\"textdisplaylong\">\n",
       "Credit JPL/NASA\n",
       "</div>\n",
       "</div>\n",
       "<br/><br/><br/><br/><br/><br/><br/><br/><br/><br/><br/><br/><br/><br/><br/><br/><br/><br/><br/><br/><br/><br/><br/><br/><br/><br/><br/><br/><br/><br/><br/><br/><br/>\n",
       "<h1><char id=\"Introduction\">Introduction</char></h1>\n",
       "InSight landed on Mars on November 26, 2018. The goal of the mission is to study the deep interior. The primary phase of the mission is scheduled to extend for a little more than a Martian year. The main components of the instrument package are the Seismic Experiment for Interior Structure (<a href=\"https://pds-geosciences.wustl.edu/missions/insight/seis.htm\">SEIS</a>) and the Heat-Flow and Physical Properties Probe (<a href=\"https://pds-geosciences.wustl.edu/missions/insight/hp3rad.htm\">HP<sup>3</sup></a>).  They are supported by the Auxiliary Payload Sensor Subsystem (APSS), which includes temperature, wind (this page) and pressure sensors (this page) and a <a href=\"https://pds-ppi.igpp.ucla.edu/search/view/?f=yes&amp;id=pds://PPI/insight-ifg-mars\">magnetometer</a>.  A <a href=\"https://pds-geosciences.wustl.edu/missions/insight/hp3rad.htm\">radiometer</a> to measure surface temperature and thermal properties supports HP3. X-band radio science, Rotation and Interior Structure Experiment (<a href=\"https://pds-geosciences.wustl.edu/missions/insight/rise.htm\">RISE</a>), will refine knowledge concerning global structure. The Instrument Deployment Camera (<a href=\"https://pds-imaging.jpl.nasa.gov/data/nsyt/insight_cameras/\">IDC</a>) and the Instrument Context Camera (<a href=\"https://pds-imaging.jpl.nasa.gov/data/nsyt/insight_cameras/\">ICC</a>) provide support imaging.\n",
       "<br/><br/>\n",
       "The fact that the InSight instrument ensemble contains a highly sensitive pressure sensor (PS), and temperature and wind detectors (TWINS), combined with the radiometer (RAD) instrument, which will measure the surface brightness temperature, and a camera with multiple filters (<a href=\"https://pds-imaging.jpl.nasa.gov/data/nsyt/insight_cameras/\">IDC</a>), which can be used to quantify atmospheric opacity, provides the components for an effective weather station. This weather station provides a more continuous and higher-frequency record of pressure, air temperature and winds at the surface of Mars than previousÂ <i>in situ</i>Â missions. \n",
       "<br/><br/>\n",
       "<char style=\"font-size: 16px;\">A <a href=\"https://atmos.nmsu.edu/data_and_services/atmospheres_data/INSIGHT/DOCS/InSight_PIP_final-2015_Redacted_5-10-19reda.pdf\">summary</a> of the mission, spacecraft and instruments is available.</char>\n",
       "<br/><br/>\n",
       "<h3>References</h3>\n",
       "<br/><br/>\n",
       "Spiga, A., Banfield, D., Teanby, N.A. et al. Atmospheric Science with InSIght, Space Sci Rev (2018) 214: 109. <a href=\"https://doi.org/10.1007/s11214-018-0543-0\">https://doi.org/10.1007/s11214-018-0543-0</a>\n",
       "<br/><br/>\n",
       "Banfield,D., et al., InSight Auxiliary Payload Sensor Suite (APSS), Space Sci Rev (2019) 215: 4. <a href=\"https://doi.org/10.1007/s11214-018-0570-x\">https://doi.org/10.1007/s11214-018-0570-x</a>\n",
       "<br/><br/>\n",
       "<div id=\"indenttext\">\n",
       "</div>\n",
       "<br/><br/>\n",
       "<h1>Instrument Description</h1>\n",
       "The Temperature and Wind for InSight (TWINS) instrument and Pressure Sensor (PS) are part of the APSS. Data from both TWINS and PS will be used by SEIS to reduce and decorrelate atmospheric effects from seismic signals.\n",
       "<br/><br/>\n",
       "TWINS is comprised of two identical booms arrayed with wind and temperature sensors that are placed on diametrically opposite sides of the lander deck, one pointing in the -Y lander axis direction and the other in the +Y direction. The booms are approximately 1.4m above the ground level, 200mm above the lander top deck, horizontally placed, and in parallel to each other. See the software specifications document (<a href=\"https://atmos.nmsu.edu/PDS/data/PDS4/InSight/twins_bundle/document/twinsps_dp_sis_issue10.pdf\">pdf</a>) Section 2.6.1.\n",
       "<br/><br/>\n",
       "\tPS is a pressure transducer located in the lander body, and connected to the ambient atmosphere with an inlet on the lander top deck. See the software specifications document (<a href=\"https://atmos.nmsu.edu/PDS/data/PDS4/InSight/twins_bundle/document/twinsps_dp_sis_issue10.pdf\">pdf</a>) Section 2.6.2.\n",
       "<br/><br/><br/><br/><br/><br/><br/>\n",
       "<a href=\"images/insight_pic_2.png\"><img align=\"left\" alt=\"INSIGHT\" border=\"1\" src=\"images/insight_pic_2.png\" style=\"border-color:black;\" width=\"950\"/></a>\n",
       "<div id=\"smalltext\">\n",
       "<div id=\"textdisplaylong4\">\n",
       "An Example of TWINS and PS Data. The barbs extending from each wind speed data point indicate the compass direction of the wind, with each half flag representing approximately 2.5 meters per second. A circle in place of a barb indicates a wind speed less than 2.5 meters per second. Credit: NASA/JPL-Caltech/Cornell/CAB\n",
       "</div>\n",
       "</div>\n",
       "<br/><br/><br/><br/><br/><br/><br/><br/><br/><br/><br/><br/><br/><br/><br/><br/><br/><br/><br/><br/><br/><br/><br/><br/><br/><br/><br/><br/><br/><br/><br/><br/><br/><br/><br/><br/><br/><br/><br/><br/><br/><br/><br/>\n",
       "<h1><char id=\"Data\">Data Acquisition</char><br/>\n",
       "Twins</h1>\n",
       "During the deployment phase TWINS provided data regarding temperature and wind speed and direction, with the objective of assessing when to deploy instruments. Both booms were used, limited by available resources.\n",
       "<br/><br/>\n",
       "Continuous logging is the main driver for TWINS operation. Available transmission bandwidth per sol will dictate what portion of the recorded data can be downloaded to Earth. Two retrieval modes are defined: event retrieval mode. (high sampling rate) and continuous mode. In continuous mode, only selected, low frequency data are sent. So far, during the science-monitoring phase, both booms have been used and as long as the earlier downlink rate is available this will be the case. The continuous mode will be sampled less, both booms will be used and the continuous mode will be the dominant mode of operation.\n",
       "<br/><br/>\n",
       "Event retrieval is very dependent of available downlink bandwidth, and most of the data will be in continuous mode.<br/>\n",
       "<br/><br/>\n",
       "Table 1 summarizes downlink modes. So far as of May 2019, available downlink has allowed the event retrieval mode to be the dominate mode.\n",
       "<br/><br/>\n",
       "<center>Table 1 TWINS Downlink Modes</center>\n",
       "<table id=\"table_border\">\n",
       "<tr style=\"font-size=16; font-weight: bold;\"><th>Downlink Mode</th><th>Wind speed data retrieval</th><th>Air Temperature data retrieval</th><th>Additional</th></tr>\n",
       "<tr><td style=\"font-size=16; font-weight=bold;\">Continuous</td><td>1/M Hz</td><td>N samples average and standard deviation at 1/M Hz</td><td>M*=decimation rate=20, 10, 2, 1<br/>N**=average window=7</td></tr>\n",
       "<tr><td style=\"font-size=16; font-weight=bold;\">Event/Full</td><td>1 Hz, 0.5Hz, 02.Hz</td><td>1 Hz, 0.5Hz, 0.2Hz</td><td>   </td></tr>\n",
       "</table>\n",
       "<br/><br/>\n",
       "*For nominal operations, M is set to 10. Since TWINS has a sampling rate of 1Hz, this makes an effective frequency of 0.1Hz.<br/>\n",
       "**a running average and standard deviation of the last N samples is transmitted \n",
       "<br/><br/>\n",
       "<h1>PS</h1>\n",
       "Because the pressure decorrelation is crucial to interpreting the seismic signals, pressure data are needed at all times of the mission, the pressure sensor is designed to operate constantly throughout the mission, only being turned off in case of low power availability. The native sampling rate on board the lander is 20 Hz, but is downsampled to a lower rate continuous data stream. For the nominal downlink case (continuous mode, ~38 Mbits/Sol), the pressure sensor will return continuous data downsampled to 2 Hz, and its temperature sensor will be downsampled to 0.2 Hz. There will be a certain amount of the downlink budget allocated to âeventsâ which will be special times in the mission where anomalous signals are detected in the pressure (or seismic or wind or magnetic) data sets, and full temporal resolution data sets are desired. In this case, a higher rate data set from the pressure sensor will be downlinked.\n",
       "<br/><br/>\n",
       "Pressure Sensor continuous and event modes data rates may change during the mission. Table 2 summarizes rates defined at the writing of this document.\n",
       "<br/><br/>\n",
       "<center>Table 2 Pressure Downlink Modes</center>\n",
       "<table id=\"table_border\">\n",
       "<tr style=\"font-size=16; font-weight: bold;\"><th>Downlink Mode</th><th>Pressure data retrieval</th><th>Temperature data retrieval</th><th>Additional</th></tr>\n",
       "<tr><td style=\"font-size=16; font-weight: bold;\">Continuous</td><td>2 Hz, 10 Hz</td><td>0.2 Hz</td><td>RMS of &gt;1Hz@0.5 Hz or 1Hz</td></tr>\n",
       "<tr><td style=\"font-size=16; font-weight: bold;\">Event</td><td>10 Hz, 5Hz, 4Hz</td><td>10 Hz, 5Hz, 4Hz, 2Hz, 1Hz, 0.5Hz</td><td>   </td><tr>\n",
       "<tr><td style=\"font-size=16; font-weight: bold;\">Full</td><td>20 Hz</td><td>20 Hz</td><td>   </td></tr>\n",
       "</tr></tr></table>\n",
       "<br/><br/>\n",
       "The data products ps_raw and ps_rawevent contain pressure and pressure temperature raw data numbers for continuous and event data, respectively. Pressure is calculated for each datum and is stored in the ps_calib and ps_calibevent files. The conversion from pressure sensor data numbers to calibrated pressure is dependent on the pressure sensorâs temperature, so pressure temperature must be calculated from the raw data numbers first. See <a href=\"https://atmos.nmsu.edu/PDS/data/PDS4/InSight/ps_bundle/document/pressure_processing.pdf\">Pressure Sensor processing details</a>\n",
       "<br/><br/>\n",
       "<char id=\"Selecting_Data\" style=\"font-size: 20px; font-weight=bold;\"><b>Selecting Data</b> Individual data files for both TWINS and PS data span 1 SOL = 24 hr 39 min and 35.244 sec.</char><br/>\n",
       "<br/><br/>\n",
       "The indices are sorted on Start Time and contain data acquired at two rates. Within the URN\n",
       "xxxevent designates the higher data rate.\n",
       "<br/><br/>\n",
       "<div id=\"indenttext\">\n",
       "<b>Data Set Description - SIS <a href=\"https://atmos.nmsu.edu/PDS/data/PDS4/InSight/twins_bundle/document/twinsps_dp_sis_issue10.pdf\">(pdf)</a></b><br/><br/>\n",
       "<div style=\"color:red;\">Note: Due to reduction of power to dust on the solar cells and Martian winter data is missing beginning in January (01-16-21 for TWINS and 01-31-21 for PS)</div><br/>\n",
       "<b>Twins Data</b><br/>\n",
       "<b>Calibrated Data<br/>\n",
       "</b></div>\n",
       "<div id=\"longindenttext\">\n",
       "<a href=\"https://atmos.nmsu.edu/PDS/data/PDS4/InSight/twins_bundle/document/\">Documents</a><br/>\n",
       "<a href=\"logs/insight_twins_calibrated_d1-11_log.htm\">TWINS index</a> (<a href=\"logs/insight_twins_calibrated_d1-11_log.csv\">CSV</a>)<br/>\n",
       "<a href=\"https://atmos.nmsu.edu/PDS/data/PDS4/InSight/twins_bundle/data_calibrated/\">Twins Data</a><br/>\n",
       "</div>\n",
       "<br/>\n",
       "<!-- Commented out for later -->\n",
       "<!--\n",
       "Data files for both TWINS and PS data span 1 SOL - 24 hr 39 min and 35.244 sec. The data is in ASCII format. Calibrated and modeled data products contain wind, air temperature and pressure in standard units (meters/second, Kelvin and Pascals). Continuous and event data are stored in separate files.\n",
       "<br><br>\n",
       "<a href=\"\" style=\"font-size=16; font-weight: bold;\">TWINS main Index</a> (<a href=\"\" style=\"font-size=16; font-weight: bold;\">csv</a>) This file summarizes the contents of the calibrated data archive. It lists URN, start and stop times, Ls, Martian Year and the file size. \n",
       "<br>\n",
       "<a href=\"\" style=\"font-size=16; font-weight: bold;\">PS main Index (csv)</a>\n",
       "\n",
       "<br><br>\n",
       "<a href=\"\" style=\"font-size=16; font-weight: bold;\">Selecting Data at the file level</a> \n",
       "-->\n",
       "<div id=\"indenttext\">\n",
       "<b>Derived Data</b>\n",
       "</div>\n",
       "<div id=\"longindenttext\">\n",
       "<a href=\"https://atmos.nmsu.edu/PDS/data/PDS4/InSight/twins_bundle/document/\">Documents</a><br/>\n",
       "<a href=\"logs/insight_twins_derived_d1-11_log.htm\">TWINS index</a> (<a href=\"logs/insight_twins_derived_d1-11_log.csv\">CSV</a>)<br/>\n",
       "<b><a href=\"https://atmos.nmsu.edu/PDS/data/PDS4/InSight/twins_bundle/data_derived/\">Twins Data</a></b><br/>\n",
       "</div>\n",
       "<br/>\n",
       "<div id=\"indenttext\">\n",
       "<b>Raw Data</b><br/>\n",
       "</div>\n",
       "<div id=\"longindenttext\">\n",
       "<b><a href=\"https://atmos.nmsu.edu/PDS/data/PDS4/InSight/twins_bundle/document/\">Documents</a></b><br/>\n",
       "<b><a href=\"logs/insight_twins_raw_d1-11_log.htm\">TWINS index</a> (<a href=\"logs/insight_twins_raw_d1-11_log.csv\">CSV</a>)</b><br/>\n",
       "<b><a href=\"https://atmos.nmsu.edu/PDS/data/PDS4/InSight/twins_bundle/data_raw/\">Twins Data</a></b><br/>\n",
       "</div>\n",
       "<br/>\n",
       "<div id=\"indenttext\">\n",
       "<b>PS Data</b><br/>\n",
       "<b>Calibrated Data<br/>\n",
       "</b></div>\n",
       "<div id=\"longindenttext\">\n",
       "<b><a href=\"https://atmos.nmsu.edu/PDS/data/PDS4/InSight/ps_bundle/document/\">Documents</a></b><br/>\n",
       "<a href=\"logs/insight_ps_calibrated_d1-11_log.htm\">PS index</a> (<a href=\"logs/insight_ps_calibrated_d1-11_log.csv\">CSV</a>)<br/>\n",
       "<b><a href=\"https://atmos.nmsu.edu/PDS/data/PDS4/InSight/ps_bundle/data_calibrated/\">PS Data</a></b><br/>\n",
       "</div>\n",
       "<div id=\"indenttext\">\n",
       "<b>Raw Data<br/>\n",
       "</b></div>\n",
       "<div id=\"longindenttext\">\n",
       "<b><a href=\"https://atmos.nmsu.edu/PDS/data/PDS4/InSight/ps_bundle/document/\">Documents</a></b><br/>\n",
       "<a href=\"logs/insight_ps_raw_d1-11_log.htm\">PS index</a> (<a href=\"logs/insight_ps_raw_d1-11_log.csv\">CSV</a>)<br/>\n",
       "<b><a href=\"https://atmos.nmsu.edu/PDS/data/PDS4/InSight/ps_bundle/data_raw/\">PS Data</a></b><br/>\n",
       "</div>\n",
       "</ul></div>\n",
       "<br/>\n",
       "<div id=\"indenttext\">\n",
       "<b>Selected data can be retrieved in 2 ways</b><br/>\n",
       "</div>\n",
       "<div id=\"longindenttext\">\n",
       "1) <b>Downloading an index, selecting components and uploading your selection.</b><br/>\n",
       "Indices that tabulate information associated with each product are available.<br/>\n",
       "</div>\n",
       "<br/>\n",
       "<!--\n",
       "<a href=\"\" style=\"font-weight: bold;\">Directory containing data files</a> \n",
       "<br><br>\n",
       "<char style=\"color: red; font-weight: bold;\"> The data is in <a href=\"\">??????</a> format.</char>\n",
       "<br><br>\n",
       "<a href=\"\" style=\"font-weight: bold;\">TWINS main Index (csv)</a></char> This file summarizes the contents of the calibrated data archive. It lists URN, start and stop times, Ls, Martian Year and the file size. \n",
       "<br><br> \n",
       "    <a href=\"\" style=\"font-weight: bold;\">Selecting Data at the file level</a>\n",
       "<br><br>\n",
       "-->\n",
       "<div id=\"longindenttext_2\">\n",
       "a.  <b>Select your index</b><br/>\n",
       "b.  <b>Sort and make your selection</b><br/>\n",
       "c.  <b><a href=\"https://atmos.nmsu.edu/data_and_services/atmospheres_data/INSIGHT/retrieving_insight.html#\">Upload the URN values</a></b> from your revised index (note the total uncompressed file size before requesting)<br/>\n",
       "</div>\n",
       "<br/>\n",
       "<div id=\"longindenttext\">\n",
       "2)  <b><a href=\"insight_search.html\">Selecting specific parameters</a></b>Â and requesting limited data files <br/>\n",
       "</div>\n",
       "<br/><br/>\n",
       "<b>Downloading annual collections of data</b><br/>\n",
       "<b>\n",
       "<a href=\"https://atmos.nmsu.edu/PDS/data/PDS4/InSight/twins_bundle.tar.gz\">TWINS collection</a><br/>\n",
       "<a href=\"https://atmos.nmsu.edu/PDS/data/PDS4/InSight/ps_bundle.tar.gz\">PS collection</a><br/><br/>\n",
       "</b>\n",
       "<br/>\n",
       "<h1 id=\"Citing\">Citing datasets for publication</h1><br/>\n",
       "J.A. Rodriguez-Manfredi, et al. (2019), InSight APSS TWINS Data Product Bundle, NASA Planetary Data System, <a href=\"https://doi.org/10.17189/1518935\">https://doi.org/10.17189/1518935.</a>\n",
       "<br/><br/>\n",
       "D. Banfield, et al. (2019), InSight APSS PS Data Product Bundle, NASA Planetary Data System, <a href=\"https://doi.org/10.17189/1518939\">https://doi.org/10.17189/1518939.</a>\n",
       "<br/><br/>\n",
       "<a class=\"big\" href=\"https://atmos.nmsu.edu/data_and_services/atmospheres_data/INSIGHT/insight_bib.html\" id=\"Bibliography\">Bibliography</a> - A listing of team members to facilitate literature searches<br/>\n",
       "<br/>\n",
       "<br/><br/>\n",
       "<a class=\"big\" href=\"https://naif.jpl.nasa.gov/naif/\" id=\"Spice\">Spice</a> - Archived SPICE ancillary data providing observation geometry (positions, orientations, instrument pointing, time conversions, etc.) are available from the PDS NAIF Node.\n",
       "\n",
       "</div>\n",
       "<div class=\"clear\"></div>\n",
       "<br/><br/><br/><br/><br/><br/><br/><br/><br/><br/><br/><br/><br/><br/><br/><br/><br/><br/><br/><br/><br/><br/><br/><br/><br/><br/><br/><br/><br/><br/><br/><br/><br/><br/><br/><br/><br/><br/><br/><br/><br/><br/>\n",
       "<!-- main content end -->\n",
       "</div>\n",
       "<!-- InstanceEndEditable -->\n",
       "\n",
       "\n",
       "<div id=\"footer\" style=\"color: black; background: #CCCCCC; vertical-align: middle;\">\n",
       "<a href=\"https://www.nasa.gov/\"><img alt=\"Link to www.usa.gov\" border=\"0\" class=\"left\" src=\"https://pds-atmospheres.nmsu.edu/atmospage_files/usa-gov.gif\"/></a>\n",
       "<p class=\"left\">\n",
       "<a href=\"https://www.nasa.gov/about/highlights/HP_Privacy.html\">Privacy</a> / <a href=\"http://www.jpl.nasa.gov/imagepolicy/\">Copyright</a><br>\n",
       "<a href=\"http://www.hq.nasa.gov/office/pao/FOIA/\">Freedom of Information Act</a>\n",
       "</br></p>\n",
       "<p class=\"right\">\n",
       "Curator: <a href=\"mailto:lhuber@nmsu.edu\">Lyle Huber</a><br>\n",
       "NASA Official: NASA Official: <a href=\"mailto:nchanove@nmsu.edu\">Nancy Chanover</a><br>\n",
       "Last updated;\n",
       "<script>\n",
       "  document.write(lastMod());\n",
       "</script>\n",
       "</br></br></p>\n",
       "<img alt=\"Small NASA logo\" class=\"right\" src=\"https://pds-atmospheres.nmsu.edu/atmospage_files/nasa-logo-small.gif\"/>\n",
       "<div style=\"clear: both;\"></div>\n",
       "</div>\n",
       "<!--[if IE]>\n",
       "    </div>\n",
       "    <![endif]-->\n",
       "<!-- InstanceEnd --></body></html>"
      ]
     },
     "execution_count": 96,
     "metadata": {},
     "output_type": "execute_result"
    }
   ],
   "source": [
    "# What does soup look like? CHAOS!\n",
    "soup"
   ]
  },
  {
   "cell_type": "code",
   "execution_count": 99,
   "id": "15771a7f",
   "metadata": {},
   "outputs": [
    {
     "data": {
      "text/plain": [
       "[<a href=\"#mainContent\">Skip to main content</a>,\n",
       " <a href=\"#mainMenu\">Skip to menu</a>,\n",
       " <a href=\"https://pds.nasa.gov/index.shtml\" onclick=\"this.blur()\"><img alt=\"NASA logo\" border=\"0\" height=\"50\" src=\"https://pds-atmospheres.nmsu.edu/atmospage_files/nasa-logo.gif\" width=\"60\"/> PDS: The Planetary Atmospheres Node</a>,\n",
       " <a href=\"https://www.nasa.gov/\">NASA Portal</a>,\n",
       " <a class=\"nonvisual\" name=\"mainMenu\"></a>,\n",
       " <a href=\"https://pds-atmospheres.nmsu.edu/\">Home</a>,\n",
       " <a href=\"https://pds-atmospheres.nmsu.edu/about_t_node/about_t_node.htm\">About Us</a>,\n",
       " <a href=\"https://pds-atmospheres.nmsu.edu/data_and_services/data_and_services.htm\">Data and Services</a>,\n",
       " <a href=\"https://pds-atmospheres.nmsu.edu/education_and_outreach/education_and_outreach.htm\">Education</a>,\n",
       " <a href=\"https://pds-atmospheres.nmsu.edu/contact_us/contact_us.htm\">Contact Us</a>,\n",
       " <a href=\"https://pds-atmospheres.nmsu.edu/other_i_sites/other_i_sites.htm\">External Links</a>,\n",
       " <a href=\"https://pds-atmospheres.nmsu.edu/data_and_services/atmospheres_data/catalog.htm\">Data Catalog</a>,\n",
       " <a href=\"https://pds-atmospheres.nmsu.edu/weather.html\">Local Weather</a>,\n",
       " <a href=\"https://ui.adsabs.harvard.edu/\">ADS NASA Astrophysics Data System</a>,\n",
       " <a href=\"https://nspires.nasaprs.com/external/solicitations/solicitations.do?method=open&amp;stack=push\">NASA Research Solicitations</a>,\n",
       " <a href=\"https://nspires.nasaprs.com/external/solicitations/solicitations.do?method=past&amp;stack=push\">Abstracts of Funded NASA Proposals</a>,\n",
       " <a href=\"https://pds-atmospheres.nmsu.edu/data_and_services/atmospheres_data/atmospheres_data.htm\">Atmospheres data</a>,\n",
       " <a href=\"https://pds-atmospheres.nmsu.edu/data_and_services/software/software.htm\">Software</a>,\n",
       " <a href=\"https://pds.nasa.gov/\">PDS</a>,\n",
       " <a href=\"https://pds-atmospheres.nmsu.edu/\">Atmospheres</a>,\n",
       " <a href=\"https://pds-geosciences.wustl.edu/\">Geosciences</a>,\n",
       " <a href=\"https://pds-imaging.jpl.nasa.gov/\">Cartography and Imaging</a>,\n",
       " <a href=\"https://naif.jpl.nasa.gov/naif\">Navigation &amp; Ancillary Information Facility (NAIF)</a>,\n",
       " <a href=\"https://pds-ppi.igpp.ucla.edu/\">Planetary Plasma Interactions (PPI)</a>,\n",
       " <a href=\"https://pds-rings.seti.org/\">Ring-Moon Systems</a>,\n",
       " <a href=\"https://pds-smallbodies.astro.umd.edu/\">Small Bodies</a>,\n",
       " <a href=\"insight.html\">Insight Summary Page</a>,\n",
       " <a href=\"https://pds-geosciences.wustl.edu/missions/insight/index.htm\">Mission Page</a>,\n",
       " <a href=\"https://pds-geosciences.wustl.edu/missions/insight/seis.htm\">Seis</a>,\n",
       " <a href=\"https://pds-geosciences.wustl.edu/missions/insight/hp3rad.htm\">HP3</a>,\n",
       " <a href=\"https://pds-geosciences.wustl.edu/missions/insight/hp3rad.htm\">Radiometer</a>,\n",
       " <a href=\"https://pds-geosciences.wustl.edu/missions/insight/rise.htm\">RISE</a>,\n",
       " <a href=\"https://pds-geosciences.wustl.edu/missions/insight/ida.htm\">IDA</a>,\n",
       " <a href=\"\">APSS (this page)</a>,\n",
       " <a href=\"\">TWINS</a>,\n",
       " <a href=\"\">PS</a>,\n",
       " <a href=\"https://atmos.nmsu.edu/data_and_services/atmospheres_data/INSIGHT/insight_edl.html\">ACC</a>,\n",
       " <a href=\"https://pds-ppi.igpp.ucla.edu/search/view/?f=yes&amp;id=pds://PPI/insight-ifg-mars\">Magnetometer</a>,\n",
       " <a href=\"https://pds-ppi.igpp.ucla.edu/search/view/?f=yes&amp;id=pds://PPI/insight-ifg-mars/data-sc-engineering\">Ancillary Data</a>,\n",
       " <a href=\"https://pds-imaging.jpl.nasa.gov/data/nsyt/insight_cameras/\">IDC</a>,\n",
       " <a href=\"https://pds-imaging.jpl.nasa.gov/data/nsyt/insight_cameras/\">ICC</a>,\n",
       " <a name=\"mainContent\"></a>,\n",
       " <a class=\"ipstickynav\" href=\"#Introduction\">Introduction</a>,\n",
       " <a class=\"ipstickynav\" href=\"#Data\">Data Acquisition and Structure</a>,\n",
       " <a class=\"ipstickynav\" href=\"#Selecting_Data\">Selecting Data</a>,\n",
       " <a class=\"ipstickynav\" href=\"#Citing\">Citing datasets for publication</a>,\n",
       " <a class=\"ipstickynav\" href=\"#Bibliography\">Bibliography</a>,\n",
       " <a class=\"ipstickynav\" href=\"#Spice\">Spice</a>,\n",
       " <a href=\"images/insight_pic.png\"><img align=\"left\" alt=\"INSIGHT\" border=\"1\" src=\"images/insight_pic.png\" style=\"border-color:black;\" width=\"650\"/></a>,\n",
       " <a href=\"https://pds-geosciences.wustl.edu/missions/insight/seis.htm\">SEIS</a>,\n",
       " <a href=\"https://pds-geosciences.wustl.edu/missions/insight/hp3rad.htm\">HP<sup>3</sup></a>,\n",
       " <a href=\"https://pds-ppi.igpp.ucla.edu/search/view/?f=yes&amp;id=pds://PPI/insight-ifg-mars\">magnetometer</a>,\n",
       " <a href=\"https://pds-geosciences.wustl.edu/missions/insight/hp3rad.htm\">radiometer</a>,\n",
       " <a href=\"https://pds-geosciences.wustl.edu/missions/insight/rise.htm\">RISE</a>,\n",
       " <a href=\"https://pds-imaging.jpl.nasa.gov/data/nsyt/insight_cameras/\">IDC</a>,\n",
       " <a href=\"https://pds-imaging.jpl.nasa.gov/data/nsyt/insight_cameras/\">ICC</a>,\n",
       " <a href=\"https://pds-imaging.jpl.nasa.gov/data/nsyt/insight_cameras/\">IDC</a>,\n",
       " <a href=\"https://atmos.nmsu.edu/data_and_services/atmospheres_data/INSIGHT/DOCS/InSight_PIP_final-2015_Redacted_5-10-19reda.pdf\">summary</a>,\n",
       " <a href=\"https://doi.org/10.1007/s11214-018-0543-0\">https://doi.org/10.1007/s11214-018-0543-0</a>,\n",
       " <a href=\"https://doi.org/10.1007/s11214-018-0570-x\">https://doi.org/10.1007/s11214-018-0570-x</a>,\n",
       " <a href=\"https://atmos.nmsu.edu/PDS/data/PDS4/InSight/twins_bundle/document/twinsps_dp_sis_issue10.pdf\">pdf</a>,\n",
       " <a href=\"https://atmos.nmsu.edu/PDS/data/PDS4/InSight/twins_bundle/document/twinsps_dp_sis_issue10.pdf\">pdf</a>,\n",
       " <a href=\"images/insight_pic_2.png\"><img align=\"left\" alt=\"INSIGHT\" border=\"1\" src=\"images/insight_pic_2.png\" style=\"border-color:black;\" width=\"950\"/></a>,\n",
       " <a href=\"https://atmos.nmsu.edu/PDS/data/PDS4/InSight/ps_bundle/document/pressure_processing.pdf\">Pressure Sensor processing details</a>,\n",
       " <a href=\"https://atmos.nmsu.edu/PDS/data/PDS4/InSight/twins_bundle/document/twinsps_dp_sis_issue10.pdf\">(pdf)</a>,\n",
       " <a href=\"https://atmos.nmsu.edu/PDS/data/PDS4/InSight/twins_bundle/document/\">Documents</a>,\n",
       " <a href=\"logs/insight_twins_calibrated_d1-11_log.htm\">TWINS index</a>,\n",
       " <a href=\"logs/insight_twins_calibrated_d1-11_log.csv\">CSV</a>,\n",
       " <a href=\"https://atmos.nmsu.edu/PDS/data/PDS4/InSight/twins_bundle/data_calibrated/\">Twins Data</a>,\n",
       " <a href=\"https://atmos.nmsu.edu/PDS/data/PDS4/InSight/twins_bundle/document/\">Documents</a>,\n",
       " <a href=\"logs/insight_twins_derived_d1-11_log.htm\">TWINS index</a>,\n",
       " <a href=\"logs/insight_twins_derived_d1-11_log.csv\">CSV</a>,\n",
       " <a href=\"https://atmos.nmsu.edu/PDS/data/PDS4/InSight/twins_bundle/data_derived/\">Twins Data</a>,\n",
       " <a href=\"https://atmos.nmsu.edu/PDS/data/PDS4/InSight/twins_bundle/document/\">Documents</a>,\n",
       " <a href=\"logs/insight_twins_raw_d1-11_log.htm\">TWINS index</a>,\n",
       " <a href=\"logs/insight_twins_raw_d1-11_log.csv\">CSV</a>,\n",
       " <a href=\"https://atmos.nmsu.edu/PDS/data/PDS4/InSight/twins_bundle/data_raw/\">Twins Data</a>,\n",
       " <a href=\"https://atmos.nmsu.edu/PDS/data/PDS4/InSight/ps_bundle/document/\">Documents</a>,\n",
       " <a href=\"logs/insight_ps_calibrated_d1-11_log.htm\">PS index</a>,\n",
       " <a href=\"logs/insight_ps_calibrated_d1-11_log.csv\">CSV</a>,\n",
       " <a href=\"https://atmos.nmsu.edu/PDS/data/PDS4/InSight/ps_bundle/data_calibrated/\">PS Data</a>,\n",
       " <a href=\"https://atmos.nmsu.edu/PDS/data/PDS4/InSight/ps_bundle/document/\">Documents</a>,\n",
       " <a href=\"logs/insight_ps_raw_d1-11_log.htm\">PS index</a>,\n",
       " <a href=\"logs/insight_ps_raw_d1-11_log.csv\">CSV</a>,\n",
       " <a href=\"https://atmos.nmsu.edu/PDS/data/PDS4/InSight/ps_bundle/data_raw/\">PS Data</a>,\n",
       " <a href=\"https://atmos.nmsu.edu/data_and_services/atmospheres_data/INSIGHT/retrieving_insight.html#\">Upload the URN values</a>,\n",
       " <a href=\"insight_search.html\">Selecting specific parameters</a>,\n",
       " <a href=\"https://atmos.nmsu.edu/PDS/data/PDS4/InSight/twins_bundle.tar.gz\">TWINS collection</a>,\n",
       " <a href=\"https://atmos.nmsu.edu/PDS/data/PDS4/InSight/ps_bundle.tar.gz\">PS collection</a>,\n",
       " <a href=\"https://doi.org/10.17189/1518935\">https://doi.org/10.17189/1518935.</a>,\n",
       " <a href=\"https://doi.org/10.17189/1518939\">https://doi.org/10.17189/1518939.</a>,\n",
       " <a class=\"big\" href=\"https://atmos.nmsu.edu/data_and_services/atmospheres_data/INSIGHT/insight_bib.html\" id=\"Bibliography\">Bibliography</a>,\n",
       " <a class=\"big\" href=\"https://naif.jpl.nasa.gov/naif/\" id=\"Spice\">Spice</a>,\n",
       " <a href=\"https://www.nasa.gov/\"><img alt=\"Link to www.usa.gov\" border=\"0\" class=\"left\" src=\"https://pds-atmospheres.nmsu.edu/atmospage_files/usa-gov.gif\"/></a>,\n",
       " <a href=\"https://www.nasa.gov/about/highlights/HP_Privacy.html\">Privacy</a>,\n",
       " <a href=\"http://www.jpl.nasa.gov/imagepolicy/\">Copyright</a>,\n",
       " <a href=\"http://www.hq.nasa.gov/office/pao/FOIA/\">Freedom of Information Act</a>,\n",
       " <a href=\"mailto:lhuber@nmsu.edu\">Lyle Huber</a>,\n",
       " <a href=\"mailto:nchanove@nmsu.edu\">Nancy Chanover</a>]"
      ]
     },
     "execution_count": 99,
     "metadata": {},
     "output_type": "execute_result"
    }
   ],
   "source": [
    "soup.find_all(\"a\")"
   ]
  },
  {
   "cell_type": "code",
   "execution_count": null,
   "id": "2fb8df7a",
   "metadata": {},
   "outputs": [],
   "source": []
  }
 ],
 "metadata": {
  "kernelspec": {
   "display_name": "Python 3 (ipykernel)",
   "language": "python",
   "name": "python3"
  },
  "language_info": {
   "codemirror_mode": {
    "name": "ipython",
    "version": 3
   },
   "file_extension": ".py",
   "mimetype": "text/x-python",
   "name": "python",
   "nbconvert_exporter": "python",
   "pygments_lexer": "ipython3",
   "version": "3.9.7"
  }
 },
 "nbformat": 4,
 "nbformat_minor": 5
}
